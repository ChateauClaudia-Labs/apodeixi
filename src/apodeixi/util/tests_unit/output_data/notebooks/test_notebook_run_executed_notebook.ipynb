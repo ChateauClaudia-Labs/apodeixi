{
 "cells": [
  {
   "cell_type": "code",
   "execution_count": 1,
   "id": "b4d966ab",
   "metadata": {
    "execution": {
     "iopub.execute_input": "2021-08-06T20:14:36.570803Z",
     "iopub.status.busy": "2021-08-06T20:14:36.570803Z",
     "iopub.status.idle": "2021-08-06T20:14:37.770254Z",
     "shell.execute_reply": "2021-08-06T20:14:37.769186Z"
    }
   },
   "outputs": [],
   "source": [
    "import pandas as pd"
   ]
  },
  {
   "cell_type": "code",
   "execution_count": 2,
   "id": "73d7fcfd",
   "metadata": {
    "execution": {
     "iopub.execute_input": "2021-08-06T20:14:37.803565Z",
     "iopub.status.busy": "2021-08-06T20:14:37.801149Z",
     "iopub.status.idle": "2021-08-06T20:14:37.843795Z",
     "shell.execute_reply": "2021-08-06T20:14:37.842741Z"
    }
   },
   "outputs": [
    {
     "data": {
      "text/html": [
       "<div>\n",
       "<style scoped>\n",
       "    .dataframe tbody tr th:only-of-type {\n",
       "        vertical-align: middle;\n",
       "    }\n",
       "\n",
       "    .dataframe tbody tr th {\n",
       "        vertical-align: top;\n",
       "    }\n",
       "\n",
       "    .dataframe thead th {\n",
       "        text-align: right;\n",
       "    }\n",
       "</style>\n",
       "<table border=\"1\" class=\"dataframe\">\n",
       "  <thead>\n",
       "    <tr style=\"text-align: right;\">\n",
       "      <th></th>\n",
       "      <th>Paises</th>\n",
       "      <th>Moneda</th>\n",
       "    </tr>\n",
       "  </thead>\n",
       "  <tbody>\n",
       "    <tr>\n",
       "      <th>0</th>\n",
       "      <td>Argentina</td>\n",
       "      <td>Peso</td>\n",
       "    </tr>\n",
       "    <tr>\n",
       "      <th>1</th>\n",
       "      <td>Costa Rica</td>\n",
       "      <td>Colon</td>\n",
       "    </tr>\n",
       "    <tr>\n",
       "      <th>2</th>\n",
       "      <td>Francia</td>\n",
       "      <td>Euro</td>\n",
       "    </tr>\n",
       "  </tbody>\n",
       "</table>\n",
       "</div>"
      ],
      "text/plain": [
       "       Paises Moneda\n",
       "0   Argentina   Peso\n",
       "1  Costa Rica  Colon\n",
       "2     Francia   Euro"
      ]
     },
     "execution_count": 1,
     "metadata": {},
     "output_type": "execute_result"
    }
   ],
   "source": [
    "df = pd.DataFrame({'Paises': ['Argentina', 'Costa Rica', 'Francia'], 'Moneda': ['Peso', 'Colon', 'Euro']})\n",
    "df"
   ]
  },
  {
   "cell_type": "code",
   "execution_count": 3,
   "id": "0612ddef",
   "metadata": {
    "execution": {
     "iopub.execute_input": "2021-08-06T20:14:37.857846Z",
     "iopub.status.busy": "2021-08-06T20:14:37.855949Z",
     "iopub.status.idle": "2021-08-06T20:14:37.868341Z",
     "shell.execute_reply": "2021-08-06T20:14:37.866044Z"
    }
   },
   "outputs": [
    {
     "data": {
      "text/plain": [
       "'C:\\\\Users\\\\aleja\\\\Documents\\\\Code\\\\chateauclaudia-labs\\\\apodeixi\\\\project\\\\src\\\\apodeixi\\\\util\\\\tests_unit\\\\output_data\\\\notebooks'"
      ]
     },
     "execution_count": 1,
     "metadata": {},
     "output_type": "execute_result"
    }
   ],
   "source": [
    "# We print a path to test that the test harness will hide the user-specific path\n",
    "import os as os\n",
    "os.getcwd()"
   ]
  },
  {
   "cell_type": "code",
   "execution_count": null,
   "id": "3539315d",
   "metadata": {},
   "outputs": [],
   "source": []
  }
 ],
 "metadata": {
  "kernelspec": {
   "display_name": "Python 3",
   "language": "python",
   "name": "python3"
  },
  "language_info": {
   "codemirror_mode": {
    "name": "ipython",
    "version": 3
   },
   "file_extension": ".py",
   "mimetype": "text/x-python",
   "name": "python",
   "nbconvert_exporter": "python",
   "pygments_lexer": "ipython3",
   "version": "3.9.5"
  }
 },
 "nbformat": 4,
 "nbformat_minor": 5
}
