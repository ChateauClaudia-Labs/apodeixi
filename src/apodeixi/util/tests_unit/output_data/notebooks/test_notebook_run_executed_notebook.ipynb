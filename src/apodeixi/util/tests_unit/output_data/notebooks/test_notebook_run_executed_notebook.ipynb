{
 "cells": [
  {
   "cell_type": "code",
   "execution_count": 1,
   "id": "b4d966ab",
   "metadata": {
    "execution": {
<<<<<<< HEAD
     "iopub.execute_input": "2021-06-11T21:57:55.393869Z",
     "iopub.status.busy": "2021-06-11T21:57:55.390848Z",
     "iopub.status.idle": "2021-06-11T21:57:57.127859Z",
     "shell.execute_reply": "2021-06-11T21:57:57.125916Z"
=======
     "iopub.execute_input": "2021-06-12T06:42:06.535818Z",
     "iopub.status.busy": "2021-06-12T06:42:06.531963Z",
     "iopub.status.idle": "2021-06-12T06:42:07.561140Z",
     "shell.execute_reply": "2021-06-12T06:42:07.562608Z"
>>>>>>> upstream_merge
    }
   },
   "outputs": [],
   "source": [
    "import pandas as pd"
   ]
  },
  {
   "cell_type": "code",
   "execution_count": 2,
   "id": "73d7fcfd",
   "metadata": {
    "execution": {
<<<<<<< HEAD
     "iopub.execute_input": "2021-06-11T21:57:57.141365Z",
     "iopub.status.busy": "2021-06-11T21:57:57.140288Z",
     "iopub.status.idle": "2021-06-11T21:57:57.200904Z",
     "shell.execute_reply": "2021-06-11T21:57:57.200904Z"
=======
     "iopub.execute_input": "2021-06-12T06:42:07.597969Z",
     "iopub.status.busy": "2021-06-12T06:42:07.590650Z",
     "iopub.status.idle": "2021-06-12T06:42:07.645015Z",
     "shell.execute_reply": "2021-06-12T06:42:07.646070Z"
>>>>>>> upstream_merge
    }
   },
   "outputs": [
    {
     "data": {
      "text/html": [
       "<div>\n",
       "<style scoped>\n",
       "    .dataframe tbody tr th:only-of-type {\n",
       "        vertical-align: middle;\n",
       "    }\n",
       "\n",
       "    .dataframe tbody tr th {\n",
       "        vertical-align: top;\n",
       "    }\n",
       "\n",
       "    .dataframe thead th {\n",
       "        text-align: right;\n",
       "    }\n",
       "</style>\n",
       "<table border=\"1\" class=\"dataframe\">\n",
       "  <thead>\n",
       "    <tr style=\"text-align: right;\">\n",
       "      <th></th>\n",
       "      <th>Paises</th>\n",
       "      <th>Moneda</th>\n",
       "    </tr>\n",
       "  </thead>\n",
       "  <tbody>\n",
       "    <tr>\n",
       "      <th>0</th>\n",
       "      <td>Argentina</td>\n",
       "      <td>Peso</td>\n",
       "    </tr>\n",
       "    <tr>\n",
       "      <th>1</th>\n",
       "      <td>Costa Rica</td>\n",
       "      <td>Colon</td>\n",
       "    </tr>\n",
       "    <tr>\n",
       "      <th>2</th>\n",
       "      <td>Francia</td>\n",
       "      <td>Euro</td>\n",
       "    </tr>\n",
       "  </tbody>\n",
       "</table>\n",
       "</div>"
      ],
      "text/plain": [
       "       Paises Moneda\n",
       "0   Argentina   Peso\n",
       "1  Costa Rica  Colon\n",
       "2     Francia   Euro"
      ]
     },
     "execution_count": 1,
     "metadata": {},
     "output_type": "execute_result"
    }
   ],
   "source": [
    "df = pd.DataFrame({'Paises': ['Argentina', 'Costa Rica', 'Francia'], 'Moneda': ['Peso', 'Colon', 'Euro']})\n",
    "df"
   ]
  },
  {
   "cell_type": "code",
   "execution_count": 3,
   "id": "0612ddef",
   "metadata": {
    "execution": {
<<<<<<< HEAD
     "iopub.execute_input": "2021-06-11T21:57:57.217989Z",
     "iopub.status.busy": "2021-06-11T21:57:57.215441Z",
     "iopub.status.idle": "2021-06-11T21:57:57.236066Z",
     "shell.execute_reply": "2021-06-11T21:57:57.235008Z"
=======
     "iopub.execute_input": "2021-06-12T06:42:07.661990Z",
     "iopub.status.busy": "2021-06-12T06:42:07.658932Z",
     "iopub.status.idle": "2021-06-12T06:42:07.678597Z",
     "shell.execute_reply": "2021-06-12T06:42:07.677148Z"
>>>>>>> upstream_merge
    }
   },
   "outputs": [
    {
     "data": {
      "text/plain": [
       "'C:\\\\Users\\\\aleja\\\\Documents\\\\Code\\\\chateauclaudia-labs\\\\apodeixi\\\\project\\\\src\\\\apodeixi\\\\util\\\\tests_unit\\\\output_data\\\\notebooks'"
      ]
     },
     "execution_count": 1,
     "metadata": {},
     "output_type": "execute_result"
    }
   ],
   "source": [
    "# We print a path to test that the test harness will hide the user-specific path\n",
    "import os as os\n",
    "os.getcwd()"
   ]
  },
  {
   "cell_type": "code",
   "execution_count": null,
   "id": "3a1ec00c",
   "metadata": {},
   "outputs": [],
   "source": []
  }
 ],
 "metadata": {
  "kernelspec": {
   "display_name": "Python 3",
   "language": "python",
   "name": "python3"
  },
  "language_info": {
   "codemirror_mode": {
    "name": "ipython",
    "version": 3
   },
   "file_extension": ".py",
   "mimetype": "text/x-python",
   "name": "python",
   "nbconvert_exporter": "python",
   "pygments_lexer": "ipython3",
   "version": "3.9.5"
  }
 },
 "nbformat": 4,
 "nbformat_minor": 5
}
