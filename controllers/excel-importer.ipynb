{
 "cells": [
  {
   "cell_type": "code",
   "execution_count": 6,
   "metadata": {},
   "outputs": [],
   "source": [
    "import pandas as pd\n",
    "import yaml\n",
    "import re\n",
    "import sys"
   ]
  },
  {
   "cell_type": "code",
   "execution_count": 7,
   "metadata": {
    "code_folding": [
     0
    ]
   },
   "outputs": [],
   "source": [
    "class ExcelTableReader:\n",
    "    '''\n",
    "    Reads a table of data from an Excel spreadsheet and creates a Pandas DataFrame from it.\n",
    "    The table is required to have a single row of column headers at the top of the table.\n",
    "    @param url A path to an Excel spreadsheet with the name of the sheet appended after a colon.\n",
    "               Example: 'C:/myDocuments/mySpreadsheets/wonderful.xlsx:Sheet1'\n",
    "    @param excel_range A string representing a range in Excel. The first row must be the column headers.\n",
    "                       Example: \"A3:D10\"\n",
    "    @return A Pandas DataFrame built from the data provided.\n",
    "    '''\n",
    "    def __init__(self, url, excel_range):\n",
    "        self.url         = url\n",
    "        self.excel_range = excel_range\n",
    "        \n",
    "    def read(self):\n",
    "        path, sheet                                    = self._parse_url()\n",
    "        \n",
    "        first_column, last_column, first_row, last_row = self._parse_range()\n",
    "        \n",
    "        # Not that Excel columns start at 1, but Pandas counts rows from 0, so need to offset the\n",
    "        # header by 1\n",
    "        df                                             = pd.read_excel(io         = path, \n",
    "                                                                       sheet_name = sheet,\n",
    "                                                                       header     = first_row -1, \n",
    "                                                                       usecols    = first_column+':'+last_column, \n",
    "                                                                       nrows      = last_row - first_row)\n",
    "        return df\n",
    "    \n",
    "    def _parse_url(self):\n",
    "        '''\n",
    "        Given a url of form \"<some string A, maybe with colons>:<some string B without colons>\"\n",
    "        it returns the two substrings separated by the last colon\n",
    "        '''\n",
    "        s = re.split(':', self.url)\n",
    "        if len(s) < 2:\n",
    "            raise ValueError (\"Incorrectly formatted url was given: '\" + self.url\n",
    "                             +\"'. Should instead be formmated like this example: \"\n",
    "                             + \"'C:/MyDocuments/MySpreadsheets/Wonderful.xlsx:SheetName'\")\n",
    "        sheet = s[len(s)-1]\n",
    "        path = self.url.split(':' + sheet)[0]\n",
    "        if len(path) == 0 or len(sheet) ==0:\n",
    "            raise ValueError (\"Incorrectly formatted url was given: \\n\\t'\" + self.url\n",
    "                             + \"'\\nShould instead be formmated like this example, with a non-empty path and a non-empty\"\n",
    "                             + \" sheet name separated by the last colon in the url: \\n\"\n",
    "                             + \"\\t'C:/My Documents/My Spreadsheets/Wonderful.xlsx:SheetName'\")\n",
    "        return path, sheet\n",
    "    \n",
    "    def _parse_range(self):\n",
    "        '''\n",
    "        Parses strings for Excel ranges like 'C5:DA15' and returns the columns and rows: 'C', 'DA', 5, 15.\n",
    "        If the given range is not correctly formatted then throws an exception\n",
    "        '''\n",
    "        REGEX = '([A-z]+)([1-9][0-9]*):([A-z]+)([1-9][0-9]*)'\n",
    "        res = re.match(REGEX, self.excel_range)\n",
    "        if (res == None or len(res.groups()) != 4):\n",
    "            raise ValueError (\"Incorrectly formatted Excel range was given: '\" + self.excel_range \n",
    "                              + \"'. Should instead be formatted like this example: 'C5:DA15'\")\n",
    "        return res.group(1), res.group(3), int(res.group(2)), int(res.group(4))\n",
    "        "
   ]
  },
  {
   "cell_type": "code",
   "execution_count": 15,
   "metadata": {
    "code_folding": []
   },
   "outputs": [],
   "source": [
    "def applyMarathonJourneyPlan(product, scoring_cycle, environment, planning_scenario, \n",
    "                             plan_name, plan_maturity, url, excel_range, repo_root_dir,\n",
    "                            estimating_mgr, estimation_date, user):\n",
    "    reader        = ExcelTableReader(url, excel_range)\n",
    "    JOURNEY       = 'Modernization'\n",
    "    \n",
    "    plan_df       = reader.read()\n",
    "    if len(plan_df.columns) != 2:\n",
    "        raise ValueError (\"Badly formatted Marathon Plan: should have exactly two columns, ideally called: 'Workstream' and \"\n",
    "                         + \"'Effort'. Error when processing range= '\" + excel_range + \"' and url=\\n\\t\" + url)\n",
    "    plan_df.columns = ['Workstream', 'Effort']\n",
    "    \n",
    "    manifest_dict = {}\n",
    "    workstreams   = []\n",
    "    WORKSTREAM_ID = 1\n",
    "    for row in plan_df.iterrows():\n",
    "        workstreams.append({'workstream': row[1]['Workstream'], 'effort': row[1]['Effort'], \n",
    "                            'workstream-id': 'ws-' + str(WORKSTREAM_ID)})\n",
    "        WORKSTREAM_ID += 1\n",
    "\n",
    "    # Namespae would typically be something like 'Development' or 'Production'\n",
    "    metadata      = {'namespace': environment + '.' + scoring_cycle, \n",
    "                     'name': product + '.' + JOURNEY + '.' + planning_scenario,\n",
    "                     'labels': {'product': product, 'scoringCycle': scoring_cycle, 'scenario': planning_scenario,\n",
    "                                                  'journey': JOURNEY}}\n",
    "\n",
    "    manifest_dict['apiVersion']     = 'journeys.ea.io/v1'\n",
    "    manifest_dict['kind']           = 'JourneyPlan'\n",
    "    manifest_dict['metadata']       = metadata\n",
    "    # Plan maturity can be one of: 'Not done', 'Drafted', 'Checked', 'Published'\n",
    "    manifest_dict['planMaturity']   = plan_maturity\n",
    "    manifest_dict['plan']           = {'type': 'Marathon', \n",
    "                                       'estimated_by': estimating_mgr, \n",
    "                                        'estimated_on': estimation_date,\n",
    "                                        'recorded_by': user,\n",
    "                                       'workstreams': workstreams}    \n",
    "    \n",
    "    yaml.dump(manifest_dict, sys.stdout)\n",
    "    \n",
    "    with open(repo_root_dir + '/' + product + '_marathon_plan.yaml', 'w') as file:\n",
    "        yaml.dump(manifest_dict, file)"
   ]
  },
  {
   "cell_type": "code",
   "execution_count": 16,
   "metadata": {
    "code_folding": [
     0
    ]
   },
   "outputs": [],
   "source": [
    "def applyInvestmentCommittment(product, scoring_cycle, environment, planning_scenario, \n",
    "                             plan_name, plan_maturity, url, excel_range, repo_root_dir, committing_mgr,\n",
    "                              committing_date, user):\n",
    "    reader        = ExcelTableReader(url, excel_range)\n",
    "    JOURNEY       = 'Modernization'\n",
    "    \n",
    "    plan_df       = reader.read()\n",
    "    if len(plan_df.columns) != 2:\n",
    "        raise ValueError (\"Badly formatted Investment Plan: should have exactly two columns, ideally called: 'Period' and \"\n",
    "                         + \"'Investment'. Error when processing range= '\" + excel_range + \"' and url=\\n\\t\" + url)\n",
    "    plan_df.columns = ['Period', 'Investment']\n",
    "    \n",
    "    manifest_dict = {}\n",
    "    investment_ts   = []\n",
    "    for row in plan_df.iterrows():\n",
    "        investment_ts.append({'period': row[1]['Period'], 'investment': row[1]['Investment'],\n",
    "                             'units': 'person-days'})\n",
    "\n",
    "    # Namespae would typically be something like 'Development' or 'Production'\n",
    "    metadata      = {'namespace': environment + '.' + scoring_cycle, \n",
    "                     'name': product + '.' + JOURNEY + '.' + planning_scenario,\n",
    "                     'labels': {'product': product, 'scoringCycle': scoring_cycle, 'scenario': planning_scenario,\n",
    "                                                  'journey': JOURNEY}}\n",
    "\n",
    "    manifest_dict['apiVersion']     = 'journeys.ea.io/v1'\n",
    "    manifest_dict['kind']           = 'JourneyInvestment'\n",
    "    manifest_dict['metadata']       = metadata\n",
    "    # Plan maturity can be one of: 'Not done', 'Drafted', 'Checked', 'Published'\n",
    "    manifest_dict['planMaturity']   = plan_maturity\n",
    "    manifest_dict['committment']           = {'committed_by': committing_mgr, \n",
    "                                              'committed_on': committing_date,\n",
    "                                              'recorded_by': user,\n",
    "                                              'investment': investment_ts}    \n",
    "    \n",
    "    yaml.dump(manifest_dict, sys.stdout)\n",
    "    \n",
    "    with open(repo_root_dir + '/' + product + '_investment_committment.yaml', 'w') as file:\n",
    "        yaml.dump(manifest_dict, file)"
   ]
  },
  {
   "cell_type": "code",
   "execution_count": 17,
   "metadata": {},
   "outputs": [],
   "source": [
    "ROOT              = 'C:/Users/ahernand/Finastra/Tracking Datasets - Documents/EA Roadmaps & Indicators -Evidence'\n",
    "SCORING_CYCLE     = 'QBR June 20'\n",
    "PRODUCT           = 'Essence'\n",
    "PLANNING_SCENARIO = 'Default'\n",
    "PLAN_NAME         = PRODUCT + \"_Modernization\"\n",
    "RESOURCE          = 'Marathon Investment for Essence.xlsx'"
   ]
  },
  {
   "cell_type": "code",
   "execution_count": 18,
   "metadata": {},
   "outputs": [],
   "source": [
    "PATH = ROOT + '/' + SCORING_CYCLE + '/' + PRODUCT + '/' + RESOURCE\n",
    "RANGE = 'C5:D15'\n",
    "URL = PATH + ':' + 'Investment Plan for Product X'\n",
    "REPO_DIR = '../manifests'"
   ]
  },
  {
   "cell_type": "code",
   "execution_count": 19,
   "metadata": {},
   "outputs": [
    {
     "name": "stdout",
     "output_type": "stream",
     "text": [
      "apiVersion: journeys.ea.io/v1\n",
      "kind: JourneyPlan\n",
      "metadata:\n",
      "  labels:\n",
      "    journey: Modernization\n",
      "    product: Essence\n",
      "    scenario: Default\n",
      "    scoringCycle: QBR June 20\n",
      "  name: Essence.Modernization.Default\n",
      "  namespace: Production.QBR June 20\n",
      "plan:\n",
      "  estimated_by: jay.pillai@finastra.com\n",
      "  estimated_on: 06 April 2021\n",
      "  recorded_by: dipak.ray@finastra.com\n",
      "  type: Marathon\n",
      "  workstreams:\n",
      "  - effort: 1000\n",
      "    workstream: \"Move to\\_Azure Managed SQL PaaS \"\n",
      "    workstream-id: ws-1\n",
      "  - effort: 8000\n",
      "    workstream: Events and Notification\n",
      "    workstream-id: ws-2\n",
      "  - effort: 1000\n",
      "    workstream: Security\n",
      "    workstream-id: ws-3\n",
      "  - effort: 5000\n",
      "    workstream: UI/UX\n",
      "    workstream-id: ws-4\n",
      "  - effort: 4000\n",
      "    workstream: Data  Analytics and Reporting\n",
      "    workstream-id: ws-5\n",
      "  - effort: 2000\n",
      "    workstream: Interfaces/integration\n",
      "    workstream-id: ws-6\n",
      "  - effort: 12000\n",
      "    workstream: 'Decomposition into microservices '\n",
      "    workstream-id: ws-7\n",
      "  - effort: 2000\n",
      "    workstream: Containerization Essence\n",
      "    workstream-id: ws-8\n",
      "  - effort: 7000\n",
      "    workstream: QA Automation\n",
      "    workstream-id: ws-9\n",
      "  - effort: 8000\n",
      "    workstream: Cloud Operation(CI/CD,EOD,Monitoring)\n",
      "    workstream-id: ws-10\n",
      "planMaturity: Published\n"
     ]
    }
   ],
   "source": [
    "applyMarathonJourneyPlan (estimating_mgr = 'jay.pillai@finastra.com', estimation_date = '06 April 2021',\n",
    "                            user = 'dipak.ray@finastra.com',\n",
    "                            product=PRODUCT, planning_scenario=PLANNING_SCENARIO, scoring_cycle=SCORING_CYCLE, \n",
    "                            environment='Production', plan_name=PLAN_NAME, plan_maturity='Published', \n",
    "                            url=URL, excel_range=RANGE, repo_root_dir=REPO_DIR)"
   ]
  },
  {
   "cell_type": "code",
   "execution_count": 20,
   "metadata": {
    "scrolled": true
   },
   "outputs": [
    {
     "name": "stdout",
     "output_type": "stream",
     "text": [
      "apiVersion: journeys.ea.io/v1\n",
      "committment:\n",
      "  committed_by: anand.subbaraman@finastra.com\n",
      "  committed_on: 06 April 2021\n",
      "  investment:\n",
      "  - investment: 4000\n",
      "    period: FY 2021\n",
      "    units: person-days\n",
      "  - investment: 7000\n",
      "    period: FY 2022\n",
      "    units: person-days\n",
      "  - investment: 13000\n",
      "    period: FY 2023\n",
      "    units: person-days\n",
      "  - investment: 13000\n",
      "    period: FY 2024\n",
      "    units: person-days\n",
      "  - investment: 13000\n",
      "    period: FY 2025\n",
      "    units: person-days\n",
      "  recorded_by: dipak.ray@finastra.com\n",
      "kind: JourneyInvestment\n",
      "metadata:\n",
      "  labels:\n",
      "    journey: Modernization\n",
      "    product: Essence\n",
      "    scenario: Default\n",
      "    scoringCycle: QBR June 20\n",
      "  name: Essence.Modernization.Default\n",
      "  namespace: Production.QBR June 20\n",
      "planMaturity: Published\n"
     ]
    }
   ],
   "source": [
    "INVESTMENT_RANGE = 'F6:G11'\n",
    "applyInvestmentCommittment (committing_mgr = 'anand.subbaraman@finastra.com', committing_date = '06 April 2021',\n",
    "                            user = 'dipak.ray@finastra.com',\n",
    "                            product=PRODUCT, planning_scenario=PLANNING_SCENARIO, scoring_cycle=SCORING_CYCLE, \n",
    "                          environment='Production', plan_name=PLAN_NAME, plan_maturity='Published', \n",
    "                          url=URL, excel_range=INVESTMENT_RANGE, repo_root_dir=REPO_DIR)"
   ]
  },
  {
   "cell_type": "code",
   "execution_count": null,
   "metadata": {},
   "outputs": [],
   "source": []
  },
  {
   "cell_type": "code",
   "execution_count": null,
   "metadata": {},
   "outputs": [],
   "source": []
  },
  {
   "cell_type": "code",
   "execution_count": null,
   "metadata": {},
   "outputs": [],
   "source": []
  },
  {
   "cell_type": "code",
   "execution_count": null,
   "metadata": {},
   "outputs": [],
   "source": []
  },
  {
   "cell_type": "markdown",
   "metadata": {},
   "source": [
    "<h1> SCRAP </h1>"
   ]
  },
  {
   "cell_type": "code",
   "execution_count": 95,
   "metadata": {},
   "outputs": [],
   "source": [
    "manifest_dict = {}\n",
    "workstreams = []\n",
    "for row in df.iterrows():\n",
    "    workstreams.append({'workstream': row[1]['Workstream'], 'effort': row[1]['Effort']})\n",
    "    \n",
    "# Status can be one of: 'Development', 'Production'\n",
    "metadata = {'namespace': 'Production', 'labels': {'product': PRODUCT, 'scoringCycle': SCORING_CYCLE}}\n",
    "        \n",
    "manifest_dict['apiVersion'] = 'ea.modernization.finastra.io/v1'\n",
    "manifest_dict['kind'] = 'JourneyPlan'\n",
    "manifest_dict['metadata'] = metadata\n",
    "# Plan maturity can be one of: 'Not done', 'Drafted', 'Checked', 'Published'\n",
    "manifest_dict['planMaturity'] = 'Published'\n",
    "manifest_dict['plan'] = {'type': 'Marathon', 'workstreams': workstreams}"
   ]
  },
  {
   "cell_type": "code",
   "execution_count": 96,
   "metadata": {},
   "outputs": [
    {
     "name": "stdout",
     "output_type": "stream",
     "text": [
      "apiVersion: ea.modernization.finastra.io/v1\n",
      "kind: JourneyPlan\n",
      "metadata:\n",
      "  labels:\n",
      "    product: Essence\n",
      "    scoringCycle: QBR June 20\n",
      "  namespace: Production\n",
      "plan:\n",
      "  type: Marathon\n",
      "  workstreams:\n",
      "  - effort: 1000\n",
      "    workstream: \"Move to\\_Azure Managed SQL PaaS \"\n",
      "  - effort: 8000\n",
      "    workstream: Events and Notification\n",
      "  - effort: 1000\n",
      "    workstream: Security\n",
      "  - effort: 5000\n",
      "    workstream: UI/UX\n",
      "  - effort: 4000\n",
      "    workstream: Data  Analytics and Reporting\n",
      "  - effort: 2000\n",
      "    workstream: Interfaces/integration\n",
      "  - effort: 12000\n",
      "    workstream: 'Decomposition into microservices '\n",
      "  - effort: 2000\n",
      "    workstream: Containerization Essence\n",
      "  - effort: 7000\n",
      "    workstream: QA Automation\n",
      "  - effort: 8000\n",
      "    workstream: Cloud Operation(CI/CD,EOD,Monitoring)\n",
      "planMaturity: Published\n"
     ]
    }
   ],
   "source": [
    "yaml.dump(manifest_dict, sys.stdout)"
   ]
  },
  {
   "cell_type": "code",
   "execution_count": 13,
   "metadata": {},
   "outputs": [
    {
     "data": {
      "text/html": [
       "<div>\n",
       "<style scoped>\n",
       "    .dataframe tbody tr th:only-of-type {\n",
       "        vertical-align: middle;\n",
       "    }\n",
       "\n",
       "    .dataframe tbody tr th {\n",
       "        vertical-align: top;\n",
       "    }\n",
       "\n",
       "    .dataframe thead th {\n",
       "        text-align: right;\n",
       "    }\n",
       "</style>\n",
       "<table border=\"1\" class=\"dataframe\">\n",
       "  <thead>\n",
       "    <tr style=\"text-align: right;\">\n",
       "      <th></th>\n",
       "      <th>a</th>\n",
       "      <th>b</th>\n",
       "    </tr>\n",
       "  </thead>\n",
       "  <tbody>\n",
       "    <tr>\n",
       "      <th>0</th>\n",
       "      <td>1</td>\n",
       "      <td>3</td>\n",
       "    </tr>\n",
       "    <tr>\n",
       "      <th>1</th>\n",
       "      <td>2</td>\n",
       "      <td>4</td>\n",
       "    </tr>\n",
       "  </tbody>\n",
       "</table>\n",
       "</div>"
      ],
      "text/plain": [
       "   a  b\n",
       "0  1  3\n",
       "1  2  4"
      ]
     },
     "execution_count": 13,
     "metadata": {},
     "output_type": "execute_result"
    }
   ],
   "source": [
    "df1 = pd.DataFrame({'a': [1,2], 'b': [3,4]})\n",
    "df1"
   ]
  },
  {
   "cell_type": "code",
   "execution_count": 15,
   "metadata": {},
   "outputs": [
    {
     "data": {
      "text/plain": [
       "2"
      ]
     },
     "execution_count": 15,
     "metadata": {},
     "output_type": "execute_result"
    }
   ],
   "source": [
    "len(df1.columns)"
   ]
  },
  {
   "cell_type": "code",
   "execution_count": null,
   "metadata": {},
   "outputs": [],
   "source": []
  }
 ],
 "metadata": {
  "kernelspec": {
   "display_name": "Python 3",
   "language": "python",
   "name": "python3"
  },
  "language_info": {
   "codemirror_mode": {
    "name": "ipython",
    "version": 3
   },
   "file_extension": ".py",
   "mimetype": "text/x-python",
   "name": "python",
   "nbconvert_exporter": "python",
   "pygments_lexer": "ipython3",
   "version": "3.7.2"
  }
 },
 "nbformat": 4,
 "nbformat_minor": 4
}
