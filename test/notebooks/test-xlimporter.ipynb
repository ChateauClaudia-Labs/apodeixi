{
 "cells": [
  {
   "cell_type": "code",
   "execution_count": 1,
   "metadata": {},
   "outputs": [],
   "source": [
    "import apodeixi\n",
    "import os"
   ]
  },
  {
   "cell_type": "markdown",
   "metadata": {},
   "source": [
    "<h1>Checking that is publicly exposed by package</h1>"
   ]
  },
  {
   "cell_type": "code",
   "execution_count": 2,
   "metadata": {},
   "outputs": [
    {
     "data": {
      "text/plain": [
       "['__all__',\n",
       " '__builtins__',\n",
       " '__cached__',\n",
       " '__doc__',\n",
       " '__file__',\n",
       " '__loader__',\n",
       " '__name__',\n",
       " '__package__',\n",
       " '__path__',\n",
       " '__spec__']"
      ]
     },
     "execution_count": 2,
     "metadata": {},
     "output_type": "execute_result"
    }
   ],
   "source": [
    "dir(apodeixi)"
   ]
  },
  {
   "cell_type": "code",
   "execution_count": 3,
   "metadata": {},
   "outputs": [
    {
     "data": {
      "text/plain": [
       "['xli']"
      ]
     },
     "execution_count": 3,
     "metadata": {},
     "output_type": "execute_result"
    }
   ],
   "source": [
    "apodeixi.__all__"
   ]
  },
  {
   "cell_type": "code",
   "execution_count": 4,
   "metadata": {},
   "outputs": [],
   "source": [
    "from apodeixi import xli"
   ]
  },
  {
   "cell_type": "code",
   "execution_count": 5,
   "metadata": {},
   "outputs": [
    {
     "data": {
      "text/plain": [
       "['applyInvestmentCommittment',\n",
       " 'applyMarathonJourneyPlan',\n",
       " 'readContext',\n",
       " 'ExcelTableReader',\n",
       " 'SchemaUtils']"
      ]
     },
     "execution_count": 5,
     "metadata": {},
     "output_type": "execute_result"
    }
   ],
   "source": [
    "xli.__all__"
   ]
  },
  {
   "cell_type": "code",
   "execution_count": 6,
   "metadata": {},
   "outputs": [
    {
     "data": {
      "text/plain": [
       "['ExcelTableReader',\n",
       " 'SchemaUtils',\n",
       " '__all__',\n",
       " '__builtins__',\n",
       " '__cached__',\n",
       " '__doc__',\n",
       " '__file__',\n",
       " '__loader__',\n",
       " '__name__',\n",
       " '__package__',\n",
       " '__path__',\n",
       " '__spec__',\n",
       " 'applyInvestmentCommittment',\n",
       " 'applyMarathonJourneyPlan',\n",
       " 'readContext',\n",
       " 'xlimporter']"
      ]
     },
     "execution_count": 6,
     "metadata": {},
     "output_type": "execute_result"
    }
   ],
   "source": [
    "dir(xli)"
   ]
  },
  {
   "cell_type": "code",
   "execution_count": 7,
   "metadata": {},
   "outputs": [
    {
     "data": {
      "text/plain": [
       "['ValidationMonad',\n",
       " '_SchemaUtils__remove_blanks',\n",
       " '_ValToValidateMonad',\n",
       " '__class__',\n",
       " '__delattr__',\n",
       " '__dict__',\n",
       " '__dir__',\n",
       " '__doc__',\n",
       " '__eq__',\n",
       " '__format__',\n",
       " '__ge__',\n",
       " '__getattribute__',\n",
       " '__gt__',\n",
       " '__hash__',\n",
       " '__init__',\n",
       " '__init_subclass__',\n",
       " '__le__',\n",
       " '__lt__',\n",
       " '__module__',\n",
       " '__ne__',\n",
       " '__new__',\n",
       " '__reduce__',\n",
       " '__reduce_ex__',\n",
       " '__repr__',\n",
       " '__setattr__',\n",
       " '__sizeof__',\n",
       " '__str__',\n",
       " '__subclasshook__',\n",
       " '__weakref__',\n",
       " 'drop_blanks',\n",
       " 'to_yaml_date']"
      ]
     },
     "execution_count": 7,
     "metadata": {},
     "output_type": "execute_result"
    }
   ],
   "source": [
    "dir(xli.SchemaUtils)"
   ]
  },
  {
   "cell_type": "code",
   "execution_count": 16,
   "metadata": {},
   "outputs": [
    {
     "data": {
      "text/plain": [
       "(module, type, module)"
      ]
     },
     "execution_count": 16,
     "metadata": {},
     "output_type": "execute_result"
    }
   ],
   "source": [
    "type(xli), type(xli.SchemaUtils), type(xli.xlimporter)"
   ]
  },
  {
   "cell_type": "markdown",
   "metadata": {},
   "source": [
    "<h1>Library</h1>"
   ]
  },
  {
   "cell_type": "markdown",
   "metadata": {},
   "source": [
    "<h1>Tests</h1>"
   ]
  },
  {
   "cell_type": "markdown",
   "metadata": {},
   "source": [
    "<h3>API: marathon-investment.xlapi.a6s.io</h3>"
   ]
  },
  {
   "cell_type": "code",
   "execution_count": 8,
   "metadata": {},
   "outputs": [],
   "source": [
    "XL_POSTINGS_DIR = os.getcwd() + '/../../excel-api'\n",
    "POSTING_FILE    = 'marathon-investment.xlapi.a6s.xlsx'\n",
    "URL = XL_POSTINGS_DIR + '/' + POSTING_FILE + ':' + 'journey-investment'"
   ]
  },
  {
   "cell_type": "code",
   "execution_count": 9,
   "metadata": {},
   "outputs": [
    {
     "data": {
      "text/html": [
       "<div>\n",
       "<style scoped>\n",
       "    .dataframe tbody tr th:only-of-type {\n",
       "        vertical-align: middle;\n",
       "    }\n",
       "\n",
       "    .dataframe tbody tr th {\n",
       "        vertical-align: top;\n",
       "    }\n",
       "\n",
       "    .dataframe thead th {\n",
       "        text-align: right;\n",
       "    }\n",
       "</style>\n",
       "<table border=\"1\" class=\"dataframe\">\n",
       "  <thead>\n",
       "    <tr style=\"text-align: right;\">\n",
       "      <th></th>\n",
       "      <th>Big Rock</th>\n",
       "      <th>T-Shirt Size Effort (person-days)</th>\n",
       "    </tr>\n",
       "  </thead>\n",
       "  <tbody>\n",
       "    <tr>\n",
       "      <th>0</th>\n",
       "      <td>End-to-end support for UXP</td>\n",
       "      <td>3000.0</td>\n",
       "    </tr>\n",
       "    <tr>\n",
       "      <th>1</th>\n",
       "      <td>Migrate from Windows to Linux</td>\n",
       "      <td>2000.0</td>\n",
       "    </tr>\n",
       "    <tr>\n",
       "      <th>2</th>\n",
       "      <td>Containerization in Linux</td>\n",
       "      <td>1500.0</td>\n",
       "    </tr>\n",
       "    <tr>\n",
       "      <th>3</th>\n",
       "      <td>Cloud stabilization</td>\n",
       "      <td>300.0</td>\n",
       "    </tr>\n",
       "    <tr>\n",
       "      <th>4</th>\n",
       "      <td>Confirmation migration away for Access</td>\n",
       "      <td>1000.0</td>\n",
       "    </tr>\n",
       "    <tr>\n",
       "      <th>5</th>\n",
       "      <td></td>\n",
       "      <td>NaN</td>\n",
       "    </tr>\n",
       "    <tr>\n",
       "      <th>6</th>\n",
       "      <td>CI/CD adoption via Anthos</td>\n",
       "      <td>1500.0</td>\n",
       "    </tr>\n",
       "  </tbody>\n",
       "</table>\n",
       "</div>"
      ],
      "text/plain": [
       "                                 Big Rock  T-Shirt Size Effort (person-days)\n",
       "0              End-to-end support for UXP                             3000.0\n",
       "1           Migrate from Windows to Linux                             2000.0\n",
       "2               Containerization in Linux                             1500.0\n",
       "3                     Cloud stabilization                              300.0\n",
       "4  Confirmation migration away for Access                             1000.0\n",
       "5                                                                        NaN\n",
       "6               CI/CD adoption via Anthos                             1500.0"
      ]
     },
     "execution_count": 9,
     "metadata": {},
     "output_type": "execute_result"
    }
   ],
   "source": [
    "r1 = xli.ExcelTableReader(URL, 'E2:F9')\n",
    "df1 = r1.read()\n",
    "df1"
   ]
  },
  {
   "cell_type": "code",
   "execution_count": 10,
   "metadata": {},
   "outputs": [
    {
     "data": {
      "text/html": [
       "<div>\n",
       "<style scoped>\n",
       "    .dataframe tbody tr th:only-of-type {\n",
       "        vertical-align: middle;\n",
       "    }\n",
       "\n",
       "    .dataframe tbody tr th {\n",
       "        vertical-align: top;\n",
       "    }\n",
       "\n",
       "    .dataframe thead th {\n",
       "        text-align: right;\n",
       "    }\n",
       "</style>\n",
       "<table border=\"1\" class=\"dataframe\">\n",
       "  <thead>\n",
       "    <tr style=\"text-align: right;\">\n",
       "      <th></th>\n",
       "      <th>product</th>\n",
       "      <th>journey</th>\n",
       "      <th>planType</th>\n",
       "      <th>scenario</th>\n",
       "      <th>environment</th>\n",
       "      <th>scoringCycle</th>\n",
       "      <th>scoringMaturity</th>\n",
       "      <th>estimatedBy</th>\n",
       "      <th>estimatedOn</th>\n",
       "    </tr>\n",
       "  </thead>\n",
       "  <tbody>\n",
       "    <tr>\n",
       "      <th>0</th>\n",
       "      <td>MyTransformingProduct</td>\n",
       "      <td>Modernization</td>\n",
       "      <td>Marathon</td>\n",
       "      <td>Default</td>\n",
       "      <td>Production</td>\n",
       "      <td>Dec 2020</td>\n",
       "      <td>Draft</td>\n",
       "      <td>joe.thedevhead@mycorp.com</td>\n",
       "      <td>2015-12-01</td>\n",
       "    </tr>\n",
       "  </tbody>\n",
       "</table>\n",
       "</div>"
      ],
      "text/plain": [
       "                 product        journey  planType scenario environment  \\\n",
       "0  MyTransformingProduct  Modernization  Marathon  Default  Production   \n",
       "\n",
       "  scoringCycle scoringMaturity                estimatedBy estimatedOn  \n",
       "0     Dec 2020           Draft  joe.thedevhead@mycorp.com  2015-12-01  "
      ]
     },
     "execution_count": 10,
     "metadata": {},
     "output_type": "execute_result"
    }
   ],
   "source": [
    "r2 = xli.ExcelTableReader(URL, 'B2:c10', horizontally=False)\n",
    "df2 = r2.read()\n",
    "df2"
   ]
  },
  {
   "cell_type": "code",
   "execution_count": 11,
   "metadata": {},
   "outputs": [
    {
     "data": {
      "text/plain": [
       "{'product': 'MyTransformingProduct',\n",
       " 'journey': 'Modernization',\n",
       " 'planType': 'Marathon',\n",
       " 'scenario': 'Default',\n",
       " 'environment': 'Production',\n",
       " 'scoringCycle': 'Dec 2020',\n",
       " 'scoringMaturity': 'Draft',\n",
       " 'estimatedBy': 'joe.thedevhead@mycorp.com',\n",
       " 'estimatedOn': datetime.datetime(2015, 12, 1, 0, 0),\n",
       " 'recordedBy': 'jill.thearchitect@mycorp.com'}"
      ]
     },
     "execution_count": 11,
     "metadata": {},
     "output_type": "execute_result"
    }
   ],
   "source": [
    "CTX = xli.readContext(URL, 'b11:c1')\n",
    "CTX"
   ]
  },
  {
   "cell_type": "code",
   "execution_count": 12,
   "metadata": {},
   "outputs": [
    {
     "data": {
      "text/plain": [
       "'C:\\\\Users\\\\aleja\\\\Documents\\\\Code\\\\chateauclaudia-labs\\\\apodeixi\\\\project\\\\test\\\\notebooks/../manifests-repo'"
      ]
     },
     "execution_count": 12,
     "metadata": {},
     "output_type": "execute_result"
    }
   ],
   "source": [
    "MANIFESTS_REPO = os.getcwd() + '/../manifests-repo'\n",
    "MANIFESTS_REPO"
   ]
  },
  {
   "cell_type": "code",
   "execution_count": 13,
   "metadata": {},
   "outputs": [
    {
     "name": "stdout",
     "output_type": "stream",
     "text": [
      "apiVersion: journeys.inbound.a6i.io/v1dev\n",
      "kind: JourneyPlan\n",
      "metadata:\n",
      "  labels:\n",
      "    journey: Modernization\n",
      "    product: MyTransformingProduct\n",
      "    scenario: Default\n",
      "    scoringCycle: Dec 2020\n",
      "  name: MyTransformingProduct.Modernization.Default\n",
      "  namespace: Production.Dec 2020\n",
      "plan:\n",
      "  estimated_by: joe.thedevhead@mycorp.com\n",
      "  estimated_on: 2015-12-01 00:00:00\n",
      "  recorded_by: jill.thearchitect@mycorp.com\n",
      "  type: Marathon\n",
      "  workstreams:\n",
      "  - effort: 3000.0\n",
      "    workstream: End-to-end support for UXP\n",
      "    workstream-id: ws-1\n",
      "  - effort: 2000.0\n",
      "    workstream: Migrate from Windows to Linux\n",
      "    workstream-id: ws-2\n",
      "  - effort: 1500.0\n",
      "    workstream: Containerization in Linux\n",
      "    workstream-id: ws-3\n",
      "  - effort: 300.0\n",
      "    workstream: Cloud stabilization\n",
      "    workstream-id: ws-4\n",
      "  - effort: 1000.0\n",
      "    workstream: Confirmation migration away for Access\n",
      "    workstream-id: ws-5\n",
      "  - effort: 1500.0\n",
      "    workstream: CI/CD adoption via Anthos\n",
      "    workstream-id: ws-6\n",
      "  - effort: 3000.0\n",
      "    workstream: Decomposition into microservices\n",
      "    workstream-id: ws-7\n",
      "planMaturity: Draft\n"
     ]
    }
   ],
   "source": [
    "PLAN_RANGE = 'E2:F10'\n",
    "xli.applyMarathonJourneyPlan (ctx=CTX, url=URL, excel_range=PLAN_RANGE, repo_root_dir=MANIFESTS_REPO)"
   ]
  },
  {
   "cell_type": "code",
   "execution_count": 14,
   "metadata": {},
   "outputs": [
    {
     "name": "stdout",
     "output_type": "stream",
     "text": [
      "apiVersion: journeys.inbound.a6i.io/v1dev\n",
      "committment:\n",
      "  committed_by: joe.thedevhead@mycorp.com\n",
      "  committed_on: 2015-12-01 00:00:00\n",
      "  investment:\n",
      "  - investment: 2400.0\n",
      "    period: FY 2021\n",
      "    units: person-days\n",
      "  - investment: 3000.0\n",
      "    period: FY 2022\n",
      "    units: person-days\n",
      "  - investment: 2400.0\n",
      "    period: FY 2023\n",
      "    units: person-days\n",
      "  - investment: 2400.0\n",
      "    period: FY 2024\n",
      "    units: person-days\n",
      "  - investment: 2100.0\n",
      "    period: FY 2025\n",
      "    units: person-days\n",
      "  recorded_by: jill.thearchitect@mycorp.com\n",
      "kind: JourneyInvestment\n",
      "metadata:\n",
      "  labels:\n",
      "    journey: Modernization\n",
      "    product: MyTransformingProduct\n",
      "    scenario: Default\n",
      "    scoringCycle: Dec 2020\n",
      "  name: MyTransformingProduct.Modernization.Default\n",
      "  namespace: Production.Dec 2020\n",
      "planMaturity: Draft\n"
     ]
    }
   ],
   "source": [
    "INVESTMENT_RANGE = 'H3:I9'\n",
    "xli.applyInvestmentCommittment (ctx=CTX, url=URL, excel_range=INVESTMENT_RANGE, repo_root_dir=MANIFESTS_REPO)"
   ]
  },
  {
   "cell_type": "code",
   "execution_count": null,
   "metadata": {},
   "outputs": [],
   "source": []
  },
  {
   "cell_type": "code",
   "execution_count": null,
   "metadata": {},
   "outputs": [],
   "source": []
  },
  {
   "cell_type": "code",
   "execution_count": null,
   "metadata": {},
   "outputs": [],
   "source": []
  },
  {
   "cell_type": "code",
   "execution_count": null,
   "metadata": {},
   "outputs": [],
   "source": []
  },
  {
   "cell_type": "markdown",
   "metadata": {},
   "source": [
    "<h1> SCRAP </h1>"
   ]
  },
  {
   "cell_type": "code",
   "execution_count": null,
   "metadata": {},
   "outputs": [],
   "source": []
  },
  {
   "cell_type": "code",
   "execution_count": null,
   "metadata": {},
   "outputs": [],
   "source": []
  },
  {
   "cell_type": "code",
   "execution_count": null,
   "metadata": {},
   "outputs": [],
   "source": []
  },
  {
   "cell_type": "code",
   "execution_count": null,
   "metadata": {},
   "outputs": [],
   "source": []
  },
  {
   "cell_type": "code",
   "execution_count": null,
   "metadata": {},
   "outputs": [],
   "source": []
  }
 ],
 "metadata": {
  "kernelspec": {
   "display_name": "Python 3",
   "language": "python",
   "name": "python3"
  },
  "language_info": {
   "codemirror_mode": {
    "name": "ipython",
    "version": 3
   },
   "file_extension": ".py",
   "mimetype": "text/x-python",
   "name": "python",
   "nbconvert_exporter": "python",
   "pygments_lexer": "ipython3",
   "version": "3.7.7"
  }
 },
 "nbformat": 4,
 "nbformat_minor": 4
}
